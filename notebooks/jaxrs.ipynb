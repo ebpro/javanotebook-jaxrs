{
 "cells": [
  {
   "cell_type": "markdown",
   "metadata": {},
   "source": [
    "# RestFull avec Java - JAX-RS\n",
    "\n",
    "L’objet de cette page est de présenter les service Web REST par la pratique en Java. \n",
    "\n",
    "L’idée générale est d’offrir un accès distant à des ressources (identifées par des URL) via une interface commune construite au dessus du protocole http. \n",
    "\n",
    "On parlera d'approche RESTful quand l'interface est conforme à une certaine philosophie : Une approche client/serveur classique mais en suivant une logique de navigation dans un hypermedia (HATEOS : Hypermedia As The Engine Of Application State). \n",
    "\n",
    "L'API est sans état côté serveur. Cela permettra de l'utiliser de façon transparente même en cas de serveur proxy/cache.\n",
    "\n",
    "Pour définir un protocole de communication il faut généralement définir (1) un système d'identification (d'adressage) des ressources manipulées, (2) un protocole d'échange, (3) un format d'échange de données éventuellement typées et (4) et (5) un système de gestion des erreurs. \n",
    "\n",
    "La logique RESTfull est d'utiliser tout ce que propose HTTP pour écrire une API **en** http.\n",
    "\n",
    "### L'adressage des ressources\n",
    "Les ressources de l'application sont identifiées par des URL.\n",
    "\n",
    "### Le protocole d'échange\n",
    "Les actions sur les ressources (identifiées par des URLs) sont associées aux verbes standards du protocole HTTP.\n",
    "\n",
    "  * **GET** : Accès à une ressource identifiée dans l'URL (il peut s'agit d'une collection).      \n",
    "  * **HEAD** : comme GET mais sans le corps de la requête (seul le header http est retourné).\n",
    "  * **POST** : création d’une ressource sans donner l'identifiant.\n",
    "  * **PUT** : mise à jour complète d'une ressource identifiée (voire création en donnant l'identifiant).\n",
    "  * **DELETE** : suppression d’une ressource\n",
    "\n",
    "La [RFC 2616](https://www.w3.org/Protocols/rfc2616/rfc2616-sec9.html) (HTTP methods) précise en particulier les nuances entre PUT et POST.\n",
    "\n",
    "GET, HEAD, PUT et DELETE doivent être idempotentes (un ou plusieurs appel doivent avoir les même effets de bord).\n",
    "\n",
    "#### Quelques exemples\n",
    "Obtenir toutes les personnes :\n",
    "      `GET http://MyServer/MyApp/Persons`\n",
    "      \n",
    "Obtenir Une personnes précise par identifiant:\n",
    "      `GET http://MyServer/MyApp/Persons/1`\n",
    "\n",
    "Obtenir toutes les personnes avec un filter:\n",
    "      `GET http://MyServer/MyApp/Persons?ageMin=7&ageMax=16`\n",
    "      \n",
    "Supprimer toutes personnes     \n",
    "      `DELETE http://MyServer/MyApp/Persons`\n",
    "      \n",
    "Supprimer une personne     \n",
    "      `DELETE http://MyServer/MyApp/Persons/1`      \n",
    "      \n",
    "### La réprésentation des ressources\n",
    "Les resources sont générales représentées et échangées à l'aide de langages autodescriptifs comme XML ou JSON.\n",
    "```xml\n",
    "<?xml version='1.0'?>\n",
    "<person id='1'>\n",
    "    <lastname>Doe</lastname>\n",
    "    <firstname>John</firstname>\n",
    "</person>\n",
    "```\n",
    "\n",
    "```json\n",
    "{\n",
    "  \"person\": {\n",
    "    \"-id\": \"1\",\n",
    "    \"lastname\": \"Doe\",\n",
    "    \"firstname\": \"John\"\n",
    "  }\n",
    "}\n",
    "```\n",
    "Pour indiquer ce que l'on envoie (Content-Type) ou ce que l'on attend (Accept) comme type de données il est possible d'utiliser les types Internet Media Types appelés à l'origine MIME (Multipurpose Internet Mail Extensions). Il s'agit entre autres d'une liste standard de formats et de sous-formats d'échange de données (text/plain, text/xml, application/json, ...)\n",
    "\n",
    "### La gestion des erreurs\n",
    "Le protocole http défini un ensemble de [codes de retours](https://tools.ietf.org/html/rfc2616#section-10).\n",
    "Un code est indiqué dans l'entête de la réponse (404 non trouvé, 500 erreur interne, 2XX ok, ...).\n",
    "Il est donc possible d'utiliser ces codes standards comme code retour.\n",
    "\n",
    "### Un échange REST = un échange HTTP\n",
    "Les échange d'une API REST correspondent donc exactement à un échange http :\n",
    "\n",
    "  * Une requête http composée d'un verbe, d'une URI, de la version de http utilisée, d'un en-tête (un liste de couples `nom:valeur` par exemple `Content-Type: text/xml`) et un corps éventuellement vide (les données envoyées).  \n",
    "  * Une réponse http composée \n",
    "\n",
    "#### Quelques exemples \n",
    "Création d'une personne :\n",
    "```\n",
    "POST http://MyServer:8080/MyApp/Persons/\n",
    "Host: MyServer:8080\n",
    "Content-Type: application/json; charset=utf-8\n",
    "Content-Length: 36\n",
    "{\"lastname\": \"Doe\",\n",
    " \"firstname\": \"John\"}\n",
    "```\n",
    "\n",
    "Modification d'une personne (`id` dans l'URL):\n",
    "```\n",
    "PUT http://MyServer:8080/MyApp/Persons/1\n",
    "Host: MyServer:8080\n",
    "Content-Type: application/json; charset=utf-8\n",
    "Content-Length: 12\n",
    "{\"age\":\"18\"}\n",
    "```\n",
    "\n",
    "Les liens entre les resources peuvent être réprésentés à l'aide d'URLs.\n",
    "Pour simplifier l'usage de l'API ces liens peuvent être fournis dans l'entête d'une réponse http. \n",
    "```\n",
    "first-person: http://MyServer:8080/MyApp/Persons/1\n",
    "next-person: http://MyServer:8080/MyApp/Persons/10\n",
    "previous-person: http://MyServer:8080/MyApp/Persons/8\n",
    "last-person: http://MyServer:8080/MyApp/Persons/90\n",
    "```\n",
    "\n",
    "La requête interactive suivante utilise la commande (curl)[https://curl.se/] pour soumettre une requête rest à l'API de github pour consulter les données du repository https://github.com/ebpro/sample-jaxrs. "
   ]
  },
  {
   "cell_type": "code",
   "execution_count": null,
   "metadata": {},
   "outputs": [],
   "source": [
    "%%shell \n",
    "curl -s -D - https://api.github.com/repos/ebpro/sample-jaxrs"
   ]
  },
  {
   "cell_type": "markdown",
   "metadata": {},
   "source": [
    "A partir de ce résultat complétez la requête ci-dessous pour obtenir les branches de ce repository."
   ]
  },
  {
   "cell_type": "code",
   "execution_count": 2,
   "metadata": {},
   "outputs": [
    {
     "ename": "EvalException",
     "evalue": "Undefined cell magic 'shell'",
     "output_type": "error",
     "traceback": [
      "\u001b[1m\u001b[31m---------------------------------------------------------------------------\u001b[0m",
      "\u001b[1m\u001b[31mio.github.spencerpark.jupyter.kernel.magic.registry.UndefinedMagicException: Undefined cell magic 'shell'\u001b[0m",
      "\u001b[1m\u001b[31m\tat io.github.spencerpark.jupyter.kernel.magic.registry.Magics.applyCellMagic(Magics.java:34)\u001b[0m",
      "\u001b[1m\u001b[31m\tat io.github.spencerpark.ijava.runtime.Magics.cellMagic(Magics.java:31)\u001b[0m",
      "\u001b[1m\u001b[31m\tat .(#13:1)\u001b[0m"
     ]
    }
   ],
   "source": [
    "%%shell\n",
    "curl -s -D - https://api.github.com/repos/ebpro/sample-jaxrs"
   ]
  },
  {
   "cell_type": "markdown",
   "metadata": {},
   "source": [
    "## Pratique avec Jersey et Grizzly\n",
    "\n",
    "Java propose un standard appelé [JAX-RS](https://jakarta.ee/specifications/restful-ws/3.0/jakarta-restful-ws-spec-3.0.html) pour construire efficacement des serveurs REST. \n",
    "[Jersey](https://eclipse-ee4j.github.io/jersey/download.html) est l'implantation de référence de JAX-RS. \n",
    "\n",
    "Dans un premier temps nous allons étudier une application simple qui s'appuie une serveur web en Java [Grizzly](https://javaee.github.io/grizzly/).\n",
    "\n",
    "L’archetype maven suivant permet de créer un projet de base dans le répertoire `/src/jaxrs/myresource`. \n",
    "\n",
    "Une fois la commande terminée (un nombre a remplacé \\[*\\] cela peut prendre un peu de temps), le code source peut être consulté en utilisant l'IDE [Visual Studio Code](/code-server) embarqué en cliquant sur le lien précédent ou depuis les Launchers."
   ]
  },
  {
   "cell_type": "code",
   "execution_count": 1,
   "metadata": {},
   "outputs": [],
   "source": [
    "%%shell\n",
    "mkdir -p /src/jaxrs/\n",
    "cd /src/jaxrs/\n",
    "rm -rf /src/jaxrs/myresource\n",
    "\n",
    "mvn archetype:generate -B --no-transfer-progress --quiet \\\n",
    "  -DarchetypeGroupId=org.glassfish.jersey.archetypes \\\n",
    "  -DarchetypeArtifactId=jersey-quickstart-grizzly2 \\\n",
    "  -DarchetypeVersion=3.0.0 \\\n",
    "  -DgroupId=fr.univtln.bruno.demos.jaxrs \\\n",
    "  -DartifactId=myresource"
   ]
  },
  {
   "cell_type": "markdown",
   "metadata": {},
   "source": [
    "<div class=\"alert alert-block alert-info\">\n",
    "Ouvrez un terminal dans jupyterlab (+ en haut à gauche puis terminal) et copier/coller la commande suivante pour compilier/exécuter l’application et ainsi démarrer le serveur REST.\n",
    "</div>\n",
    "\n",
    "```shell\n",
    "cd /src/jaxrs/myresource\n",
    "mvn package && mvn exec:java\n",
    "```\n",
    "\n",
    "Il est possible d’accéder à la ressource en ligne de commande. \n",
    "\n",
    "Regarder les options de la commande curl pour réaliser des requêtes HTTP. \n",
    "\n",
    "Des extensions pour les navigateurs web existent aussi comme postman pour Chrome ou RestClient pour firefox (attention les serveurs lancé dans jupyter ne sont pas accessible de l'extérieur).\n",
    "\n",
    "La commande suivante exécute une requête GET sur l'URL d'une ressource et affiche le résultat en-tête compris."
   ]
  },
  {
   "cell_type": "code",
   "execution_count": 4,
   "metadata": {},
   "outputs": [
    {
     "ename": "EvalException",
     "evalue": "Undefined cell magic 'shell'",
     "output_type": "error",
     "traceback": [
      "\u001b[1m\u001b[31m---------------------------------------------------------------------------\u001b[0m",
      "\u001b[1m\u001b[31mio.github.spencerpark.jupyter.kernel.magic.registry.UndefinedMagicException: Undefined cell magic 'shell'\u001b[0m",
      "\u001b[1m\u001b[31m\tat io.github.spencerpark.jupyter.kernel.magic.registry.Magics.applyCellMagic(Magics.java:34)\u001b[0m",
      "\u001b[1m\u001b[31m\tat io.github.spencerpark.ijava.runtime.Magics.cellMagic(Magics.java:31)\u001b[0m",
      "\u001b[1m\u001b[31m\tat .(#15:1)\u001b[0m"
     ]
    }
   ],
   "source": [
    "%%shell\n",
    "curl -s -D - --get http://localhost:8080/myapp/myresource"
   ]
  },
  {
   "cell_type": "markdown",
   "metadata": {},
   "source": [
    "En théorie l'URL `/myapp/application.wadl` permet d'accéder à une description standard de l'API dans un format XML appelé [WADL](https://www.w3.org/Submission/wadl/). \n",
    "\n",
    "Cependant, pour cela l'application nécessite une implantation du standard pour traiter les documents XML appelé [JAXB](https://eclipse-ee4j.github.io/jaxb-ri/) qui n'est plus fournie en standard dans le JDK depuis la version 8 (nous utilisons ici la version 11).  C'est pourquoi une erreur 404 est reçue."
   ]
  },
  {
   "cell_type": "code",
   "execution_count": 5,
   "metadata": {},
   "outputs": [
    {
     "ename": "EvalException",
     "evalue": "Undefined cell magic 'shell'",
     "output_type": "error",
     "traceback": [
      "\u001b[1m\u001b[31m---------------------------------------------------------------------------\u001b[0m",
      "\u001b[1m\u001b[31mio.github.spencerpark.jupyter.kernel.magic.registry.UndefinedMagicException: Undefined cell magic 'shell'\u001b[0m",
      "\u001b[1m\u001b[31m\tat io.github.spencerpark.jupyter.kernel.magic.registry.Magics.applyCellMagic(Magics.java:34)\u001b[0m",
      "\u001b[1m\u001b[31m\tat io.github.spencerpark.ijava.runtime.Magics.cellMagic(Magics.java:31)\u001b[0m",
      "\u001b[1m\u001b[31m\tat .(#16:1)\u001b[0m"
     ]
    }
   ],
   "source": [
    "%%shell\n",
    "curl -s -D - --get http://localhost:8080/myapp/application.wadl"
   ]
  },
  {
   "cell_type": "markdown",
   "metadata": {},
   "source": [
    "La classe `fr.univtln.bruno.demos.jaxrs.Main` démarre le serveur et paramètre les package où chercher des ressources (cf. commentaires).\n",
    "\n",
    "La classe `fr.univtln.bruno.demos.jaxrs.MyResource` présente le fonctionnement minimal d'une ressource. La classe est annotée avec `@Path(your_path)` pour indiquer le chemin à ajouter à l’URL correspondant à cette ressource.\n",
    "\n",
    "Les méthodes sont annotées avec @POST, @GET, @PUT, @DELETE pour indiquer le type de verbe http associée. Les méthodes associées (dont GET) peuvent être annotées avec `@Produces` qui indique le type MIME dans lequel le résultat doit être fourni : `@Produces(\"text/plain\")`, `@Produces(\"application/json\")`, … Il possible d’indiquer plusieurs types avec `@Produces({\"application/json\", \"application/xml\"})`. Il existe aussi des constantes équivalentes `MediaType.TEXT_PLAIN`. Une valeur par défaut de `@Produces` peut être indiquée en annotant la classe.\n",
    "\n",
    "Le client peut indiquer le type demandé avec la valeur `Content-Type: ` de l'entête de la requête.\n",
    "\n",
    "Les méthodes qui nécessitent des paramètres sont annotées avec `@Consumes(type[, type, …])` pour indiquer les types mime supportés. \n",
    "\n",
    "L’annotation @PathParam permet d’injecter les valeurs provenant des URL comme des paramètres. \n",
    "\n",
    "## Un exemple avancé\n",
    "\n",
    "Le projet dans l’entrepôt git https://github.com/ebpro/sample-jaxrs donne un exemple un peu plus complet.\n",
    "\n",
    "La commande suivante clone le projet :"
   ]
  },
  {
   "cell_type": "code",
   "execution_count": 6,
   "metadata": {},
   "outputs": [
    {
     "ename": "EvalException",
     "evalue": "Undefined cell magic 'shell'",
     "output_type": "error",
     "traceback": [
      "\u001b[1m\u001b[31m---------------------------------------------------------------------------\u001b[0m",
      "\u001b[1m\u001b[31mio.github.spencerpark.jupyter.kernel.magic.registry.UndefinedMagicException: Undefined cell magic 'shell'\u001b[0m",
      "\u001b[1m\u001b[31m\tat io.github.spencerpark.jupyter.kernel.magic.registry.Magics.applyCellMagic(Magics.java:34)\u001b[0m",
      "\u001b[1m\u001b[31m\tat io.github.spencerpark.ijava.runtime.Magics.cellMagic(Magics.java:31)\u001b[0m",
      "\u001b[1m\u001b[31m\tat .(#17:1)\u001b[0m"
     ]
    }
   ],
   "source": [
    "%%shell \n",
    "cd /src/jaxrs/\n",
    "rm -rf /src/jaxrs/sample-jaxrs\n",
    "git clone --branch develop https://github.com/ebpro/sample-jaxrs.git"
   ]
  },
  {
   "cell_type": "markdown",
   "metadata": {},
   "source": [
    "Ce projet peut aussi être édité dans [Visual Studio Code](/code-server). \n",
    "\n",
    "Vous pouvez exécuter la commande suivante depuis un terminal jupyterlab qui utilise le but maven `verify`.\n",
    "Elle compile, exécute les tests unitaires, package et exécute les tests d'intégration (en lançant le serveur REST et en exécutant de vraies requêtes).\n",
    "\n",
    "Le but exec:java lances ensuite le serveur (vous pourrez l'arrêter avec ctrl-c dans le terminal). \n",
    "\n",
    "<div class=\"alert alert-block alert-info\">\n",
    "Ouvrez un autre terminal JupyterLab pour exécuter la commande suivante.\n",
    "</div>\n",
    "\n",
    "```shell \n",
    "cd /src/jaxrs/sample-jaxrs && \\\n",
    "    mvn clean verify &&\n",
    "    mvn exec:java\n",
    "```\n",
    "\n",
    "La classe `fr.univtln.bruno.samples.jaxrs.server.BiblioServer` paramètre Jersey, démarre Grizzly et attend un CTRL-C pour arrêter le serveur. \n",
    "\n",
    "La classe `fr.univtln.bruno.samples.jaxrs.model.BiblioModel` définit le modèle de donnée (Une bibliothèque qui est une facade pour gérer des Auteurs.)\n",
    "\n",
    "La classe `fr.univtln.bruno.samples.jaxrs.resources.BiblioResource` définit une resource facade.\n",
    "\n",
    "\n",
    "La méthode `sayHello()` reprend l'exemple précédent."
   ]
  },
  {
   "cell_type": "code",
   "execution_count": 7,
   "metadata": {},
   "outputs": [
    {
     "ename": "EvalException",
     "evalue": "Undefined cell magic 'shell'",
     "output_type": "error",
     "traceback": [
      "\u001b[1m\u001b[31m---------------------------------------------------------------------------\u001b[0m",
      "\u001b[1m\u001b[31mio.github.spencerpark.jupyter.kernel.magic.registry.UndefinedMagicException: Undefined cell magic 'shell'\u001b[0m",
      "\u001b[1m\u001b[31m\tat io.github.spencerpark.jupyter.kernel.magic.registry.Magics.applyCellMagic(Magics.java:34)\u001b[0m",
      "\u001b[1m\u001b[31m\tat io.github.spencerpark.ijava.runtime.Magics.cellMagic(Magics.java:31)\u001b[0m",
      "\u001b[1m\u001b[31m\tat .(#18:1)\u001b[0m"
     ]
    }
   ],
   "source": [
    "%%shell\n",
    "echo -e \"\\033[0;31mGet a Hello message\\033[0m\"\n",
    "curl -s -i http://localhost:9998/myapp/biblio"
   ]
  },
  {
   "cell_type": "markdown",
   "metadata": {},
   "source": [
    "### Chemins et Verbes\n",
    "La méthode `init()` est un simple PUT sans paramètre qui initialise la bibliothèque avec deux auteurs."
   ]
  },
  {
   "cell_type": "code",
   "execution_count": 8,
   "metadata": {},
   "outputs": [
    {
     "ename": "EvalException",
     "evalue": "Undefined cell magic 'shell'",
     "output_type": "error",
     "traceback": [
      "\u001b[1m\u001b[31m---------------------------------------------------------------------------\u001b[0m",
      "\u001b[1m\u001b[31mio.github.spencerpark.jupyter.kernel.magic.registry.UndefinedMagicException: Undefined cell magic 'shell'\u001b[0m",
      "\u001b[1m\u001b[31m\tat io.github.spencerpark.jupyter.kernel.magic.registry.Magics.applyCellMagic(Magics.java:34)\u001b[0m",
      "\u001b[1m\u001b[31m\tat io.github.spencerpark.ijava.runtime.Magics.cellMagic(Magics.java:31)\u001b[0m",
      "\u001b[1m\u001b[31m\tat .(#19:1)\u001b[0m"
     ]
    }
   ],
   "source": [
    "%%shell\n",
    "echo \"\\033[0;31mInit the database with two authors\\033[0m\"\n",
    "curl -s -i -X PUT \"http://localhost:9998/myapp/biblio/init\""
   ]
  },
  {
   "cell_type": "markdown",
   "metadata": {},
   "source": [
    "## Les paramètres simples et la sérialisation du retour\n",
    "Retourner un auteur par id. La méthode `getAuteur(@PathParam(\"id\") final long id)` s'exécute lors d'un `GET` sur un chemin de forme `@Path(\"auteurs/{id}\")`. `id` est est un pas de chemin quelconque qui sera extrait, converti en long et injecté grâce à @PathParam dans le paramètre id de la fonction. Il est possible d'indiquer une expression régulière pour contraindre la forme du pas par exemple `@Path(\"auteurs/{id: [0-9]+}\")`. Le Produces indique que du XML ou du JSON peuvent être produits. La requête suivante demande du JSON. "
   ]
  },
  {
   "cell_type": "code",
   "execution_count": 9,
   "metadata": {},
   "outputs": [
    {
     "ename": "EvalException",
     "evalue": "Undefined cell magic 'shell'",
     "output_type": "error",
     "traceback": [
      "\u001b[1m\u001b[31m---------------------------------------------------------------------------\u001b[0m",
      "\u001b[1m\u001b[31mio.github.spencerpark.jupyter.kernel.magic.registry.UndefinedMagicException: Undefined cell magic 'shell'\u001b[0m",
      "\u001b[1m\u001b[31m\tat io.github.spencerpark.jupyter.kernel.magic.registry.Magics.applyCellMagic(Magics.java:34)\u001b[0m",
      "\u001b[1m\u001b[31m\tat io.github.spencerpark.ijava.runtime.Magics.cellMagic(Magics.java:31)\u001b[0m",
      "\u001b[1m\u001b[31m\tat .(#20:1)\u001b[0m"
     ]
    }
   ],
   "source": [
    "%%shell\n",
    "echo \"\\033[0;31mGet author 1 in JSON\\033[0m\"\n",
    "curl -s -i -H \"Accept: application/json\"  \\\n",
    "  http://localhost:9998/myapp/biblio/auteurs/1"
   ]
  },
  {
   "cell_type": "markdown",
   "metadata": {},
   "source": [
    "La requête suivante reprend la précédente et demande du XML. JAX-RS va chercher automatiquement des classes (MessageBodyWriter et Reader) pour créer le bon format. Ces classes peuvent construites explicitement mais des extensions peuvent être ajoutées pour produire les types classiques par annotations des entités (cf. le pom.xml et  les annotations de la classe `BiblioModel.Auteur`) : jersey-media-jaxb pour XML et jersey-media-json-jackson pour JSON. Jackson n'est pas l'implantatation pas défaut mais elle est plus efficace et plus configurable. "
   ]
  },
  {
   "cell_type": "code",
   "execution_count": 10,
   "metadata": {},
   "outputs": [
    {
     "ename": "EvalException",
     "evalue": "Undefined cell magic 'shell'",
     "output_type": "error",
     "traceback": [
      "\u001b[1m\u001b[31m---------------------------------------------------------------------------\u001b[0m",
      "\u001b[1m\u001b[31mio.github.spencerpark.jupyter.kernel.magic.registry.UndefinedMagicException: Undefined cell magic 'shell'\u001b[0m",
      "\u001b[1m\u001b[31m\tat io.github.spencerpark.jupyter.kernel.magic.registry.Magics.applyCellMagic(Magics.java:34)\u001b[0m",
      "\u001b[1m\u001b[31m\tat io.github.spencerpark.ijava.runtime.Magics.cellMagic(Magics.java:31)\u001b[0m",
      "\u001b[1m\u001b[31m\tat .(#21:1)\u001b[0m"
     ]
    }
   ],
   "source": [
    "%%shell\n",
    "echo \"\\033[0;31mGet author 2 in XML\\033[0m\"\n",
    "curl -s -i -H \"Accept: text/xml\"  \\\n",
    "  http://localhost:9998/myapp/biblio/auteurs/2"
   ]
  },
  {
   "cell_type": "markdown",
   "metadata": {},
   "source": [
    "Les collections classiques sont supportés. Notez qu'ici les [collections eclipse](https://www.eclipse.org/collections/) sont utilisées en particulier celles pour les primitifs et qu'elles sont supportées par Jackson."
   ]
  },
  {
   "cell_type": "code",
   "execution_count": 11,
   "metadata": {},
   "outputs": [
    {
     "ename": "EvalException",
     "evalue": "Undefined cell magic 'shell'",
     "output_type": "error",
     "traceback": [
      "\u001b[1m\u001b[31m---------------------------------------------------------------------------\u001b[0m",
      "\u001b[1m\u001b[31mio.github.spencerpark.jupyter.kernel.magic.registry.UndefinedMagicException: Undefined cell magic 'shell'\u001b[0m",
      "\u001b[1m\u001b[31m\tat io.github.spencerpark.jupyter.kernel.magic.registry.Magics.applyCellMagic(Magics.java:34)\u001b[0m",
      "\u001b[1m\u001b[31m\tat io.github.spencerpark.ijava.runtime.Magics.cellMagic(Magics.java:31)\u001b[0m",
      "\u001b[1m\u001b[31m\tat .(#22:1)\u001b[0m"
     ]
    }
   ],
   "source": [
    "%%shell\n",
    "echo \"\\033[0;31mGet authors in JSON\\033[0m\"\n",
    "curl -s -i -H \"Accept: application/json\"  \\\n",
    "  http://localhost:9998/myapp/biblio/auteurs"
   ]
  },
  {
   "cell_type": "markdown",
   "metadata": {},
   "source": [
    "D'une façon similaire les annotations `@HeaderParam` et `@QueryParam` permettent d'extraire des valeurs de l'entête ou des paramètres de la requête http :\n",
    "\n",
    "```shell\n",
    "```\n",
    "\n",
    "### La sérialisation des données\n",
    "\n",
    "Depuis Java 9 il est nécessaire d'ajouter les dépendances suivante pour traiter des données XML : \n",
    "\n",
    "```XML\n",
    "<dependency>\n",
    "  <groupId>jakarta.xml.bind</groupId> \n",
    "  <artifactId>jakarta.xml.bind-api</artifactId>\n",
    "</dependency>\n",
    "<dependency>\n",
    "  <groupId>org.glassfish.jaxb</groupId>\n",
    "  <artifactId>jaxb-runtime</artifactId>\n",
    "</dependency>\n",
    "```\n",
    "\n",
    "La définition des formats de données XML se fait par annotation des entités en utilisant le standard JAXB (Java Architecture for XML Binding) : @XmlElement, @XmlType, @XmlAttribute, @XmlTransient, @XmlValue, ...\n",
    "\n",
    "Le standard officiel pour JSON est maintenant JSON-B (Java API for JSON Binding). Cependant, des fonctionnalités importantes sont encore manquantes ,ous utiliserons donc une autre librairie : Jackson https://github.com/FasterXML/jackson (cf. pom.xml)."
   ]
  },
  {
   "cell_type": "markdown",
   "metadata": {},
   "source": [
    "### Les paramètres complexes dans les corps de requêtes \n",
    "Les conversions sont aussi automatiques dans l'autre sens quand des données sont envoyées dans le corps d'une requête ici du JSON dans un POST.\n",
    "L'annotation @Consummes de la méthode addAuteur() indique ce qui est possible et l'entete Content-Type ce qui est envoyé. Noter que l'Id n'est pas indiqué mais que l'entité complète est retournée. "
   ]
  },
  {
   "cell_type": "code",
   "execution_count": 12,
   "metadata": {},
   "outputs": [
    {
     "ename": "EvalException",
     "evalue": "Undefined cell magic 'shell'",
     "output_type": "error",
     "traceback": [
      "\u001b[1m\u001b[31m---------------------------------------------------------------------------\u001b[0m",
      "\u001b[1m\u001b[31mio.github.spencerpark.jupyter.kernel.magic.registry.UndefinedMagicException: Undefined cell magic 'shell'\u001b[0m",
      "\u001b[1m\u001b[31m\tat io.github.spencerpark.jupyter.kernel.magic.registry.Magics.applyCellMagic(Magics.java:34)\u001b[0m",
      "\u001b[1m\u001b[31m\tat io.github.spencerpark.ijava.runtime.Magics.cellMagic(Magics.java:31)\u001b[0m",
      "\u001b[1m\u001b[31m\tat .(#23:1)\u001b[0m"
     ]
    }
   ],
   "source": [
    "%%shell\n",
    "echo \"\\033[0;31mAdds an author\\033[0m\"\n",
    "curl -s -i -H \"Accept: application/json\"  \\\n",
    "  -H \"Content-type: application/json\"  \\\n",
    "  -X POST \\\n",
    "  -d '{\"nom\":\"John\",\"prenom\":\"Smith\",\"biographie\":\"My life\"}' \\\n",
    "  http://localhost:9998/myapp/biblio/auteurs/"
   ]
  },
  {
   "cell_type": "markdown",
   "metadata": {},
   "source": [
    "La méthode `updateAuteur` est appelée par un PUT mais avec une resource précise (indiquée dans l'URL) à mettre à jour."
   ]
  },
  {
   "cell_type": "code",
   "execution_count": 13,
   "metadata": {},
   "outputs": [
    {
     "ename": "EvalException",
     "evalue": "Undefined cell magic 'shell'",
     "output_type": "error",
     "traceback": [
      "\u001b[1m\u001b[31m---------------------------------------------------------------------------\u001b[0m",
      "\u001b[1m\u001b[31mio.github.spencerpark.jupyter.kernel.magic.registry.UndefinedMagicException: Undefined cell magic 'shell'\u001b[0m",
      "\u001b[1m\u001b[31m\tat io.github.spencerpark.jupyter.kernel.magic.registry.Magics.applyCellMagic(Magics.java:34)\u001b[0m",
      "\u001b[1m\u001b[31m\tat io.github.spencerpark.ijava.runtime.Magics.cellMagic(Magics.java:31)\u001b[0m",
      "\u001b[1m\u001b[31m\tat .(#24:1)\u001b[0m"
     ]
    }
   ],
   "source": [
    "%%shell\n",
    "echo \"\\033[0;31mFully update an author\\033[0m\"\n",
    "curl -s -i -H \"Accept: application/json\"  \\\n",
    "  -H \"Content-type: application/json\"  \\\n",
    "  -X PUT \\\n",
    "  -d '{\"nom\":\"Martin\",\"prenom\":\"Jean\",\"biographie\":\"ma vie\"}' \\\n",
    "  http://localhost:9998/myapp/biblio/auteurs/1"
   ]
  },
  {
   "cell_type": "markdown",
   "metadata": {},
   "source": [
    "### Les exceptions\n",
    "Le traitement des exceptions peut être simplifié en utilisant des mappers (cf. package exceptions et mapper) qui s'appliquent automatiquement lors qu'une exception est émise. Dans ce cas un objet Response est construit manuellement pour contrôler le détail du corps et de l'entête. "
   ]
  },
  {
   "cell_type": "code",
   "execution_count": 14,
   "metadata": {},
   "outputs": [
    {
     "ename": "EvalException",
     "evalue": "Undefined cell magic 'shell'",
     "output_type": "error",
     "traceback": [
      "\u001b[1m\u001b[31m---------------------------------------------------------------------------\u001b[0m",
      "\u001b[1m\u001b[31mio.github.spencerpark.jupyter.kernel.magic.registry.UndefinedMagicException: Undefined cell magic 'shell'\u001b[0m",
      "\u001b[1m\u001b[31m\tat io.github.spencerpark.jupyter.kernel.magic.registry.Magics.applyCellMagic(Magics.java:34)\u001b[0m",
      "\u001b[1m\u001b[31m\tat io.github.spencerpark.ijava.runtime.Magics.cellMagic(Magics.java:31)\u001b[0m",
      "\u001b[1m\u001b[31m\tat .(#25:1)\u001b[0m"
     ]
    }
   ],
   "source": [
    "%%shell\n",
    "echo \"\\033[0;31mIf a resource doesn't exist an exception is raised, and the 404 http status code is returned\\033[0m\"\n",
    "curl -s -i -H \"Accept: application/json\"  \\\n",
    "  http://localhost:9998/myapp/biblio/auteurs/1000"
   ]
  },
  {
   "cell_type": "markdown",
   "metadata": {},
   "source": [
    "D'une façon générale une classe annotée par `@Provider` ajouter des fonctions (traitement des exceptions, conversion des données, ...)."
   ]
  },
  {
   "cell_type": "markdown",
   "metadata": {},
   "source": [
    "### La suppression\n",
    "La suppression des requêtes se fait avec les approches précédentes."
   ]
  },
  {
   "cell_type": "code",
   "execution_count": 15,
   "metadata": {},
   "outputs": [
    {
     "ename": "EvalException",
     "evalue": "Undefined cell magic 'shell'",
     "output_type": "error",
     "traceback": [
      "\u001b[1m\u001b[31m---------------------------------------------------------------------------\u001b[0m",
      "\u001b[1m\u001b[31mio.github.spencerpark.jupyter.kernel.magic.registry.UndefinedMagicException: Undefined cell magic 'shell'\u001b[0m",
      "\u001b[1m\u001b[31m\tat io.github.spencerpark.jupyter.kernel.magic.registry.Magics.applyCellMagic(Magics.java:34)\u001b[0m",
      "\u001b[1m\u001b[31m\tat io.github.spencerpark.ijava.runtime.Magics.cellMagic(Magics.java:31)\u001b[0m",
      "\u001b[1m\u001b[31m\tat .(#26:1)\u001b[0m"
     ]
    }
   ],
   "source": [
    "%%shell\n",
    "echo \"\\033[0;31mRemoves one author\\033[0m\"\n",
    "    curl -s -i -H \"Accept: application/json\"  \\\n",
    "curl -s -i -X DELETE \\\n",
    "    http://localhost:9998/myapp/biblio/auteurs/1"
   ]
  },
  {
   "cell_type": "code",
   "execution_count": 16,
   "metadata": {},
   "outputs": [
    {
     "ename": "EvalException",
     "evalue": "Undefined cell magic 'shell'",
     "output_type": "error",
     "traceback": [
      "\u001b[1m\u001b[31m---------------------------------------------------------------------------\u001b[0m",
      "\u001b[1m\u001b[31mio.github.spencerpark.jupyter.kernel.magic.registry.UndefinedMagicException: Undefined cell magic 'shell'\u001b[0m",
      "\u001b[1m\u001b[31m\tat io.github.spencerpark.jupyter.kernel.magic.registry.Magics.applyCellMagic(Magics.java:34)\u001b[0m",
      "\u001b[1m\u001b[31m\tat io.github.spencerpark.ijava.runtime.Magics.cellMagic(Magics.java:31)\u001b[0m",
      "\u001b[1m\u001b[31m\tat .(#27:1)\u001b[0m"
     ]
    }
   ],
   "source": [
    "%%shell\n",
    "echo \"\\033[0;31mRemoves all authors\\033[0m\"\n",
    "curl -s -i -X DELETE \\\n",
    "    http://localhost:9998/myapp/biblio/auteurs"
   ]
  },
  {
   "cell_type": "code",
   "execution_count": 17,
   "metadata": {},
   "outputs": [
    {
     "ename": "EvalException",
     "evalue": "Undefined cell magic 'shell'",
     "output_type": "error",
     "traceback": [
      "\u001b[1m\u001b[31m---------------------------------------------------------------------------\u001b[0m",
      "\u001b[1m\u001b[31mio.github.spencerpark.jupyter.kernel.magic.registry.UndefinedMagicException: Undefined cell magic 'shell'\u001b[0m",
      "\u001b[1m\u001b[31m\tat io.github.spencerpark.jupyter.kernel.magic.registry.Magics.applyCellMagic(Magics.java:34)\u001b[0m",
      "\u001b[1m\u001b[31m\tat io.github.spencerpark.ijava.runtime.Magics.cellMagic(Magics.java:31)\u001b[0m",
      "\u001b[1m\u001b[31m\tat .(#28:1)\u001b[0m"
     ]
    }
   ],
   "source": [
    "%%shell\n",
    "echo \"\\033[0;31mInit the database with two authors\\033[0m\"\n",
    "curl -s -i -X PUT http://localhost:9998/myapp/biblio/init"
   ]
  },
  {
   "cell_type": "markdown",
   "metadata": {},
   "source": [
    "### Définition de l'API\n",
    "Si JAXB est dans le classpath (cf. pom.xml) la génération d'une description WADL est automatique."
   ]
  },
  {
   "cell_type": "code",
   "execution_count": 18,
   "metadata": {},
   "outputs": [
    {
     "ename": "EvalException",
     "evalue": "Undefined cell magic 'shell'",
     "output_type": "error",
     "traceback": [
      "\u001b[1m\u001b[31m---------------------------------------------------------------------------\u001b[0m",
      "\u001b[1m\u001b[31mio.github.spencerpark.jupyter.kernel.magic.registry.UndefinedMagicException: Undefined cell magic 'shell'\u001b[0m",
      "\u001b[1m\u001b[31m\tat io.github.spencerpark.jupyter.kernel.magic.registry.Magics.applyCellMagic(Magics.java:34)\u001b[0m",
      "\u001b[1m\u001b[31m\tat io.github.spencerpark.ijava.runtime.Magics.cellMagic(Magics.java:31)\u001b[0m",
      "\u001b[1m\u001b[31m\tat .(#29:1)\u001b[0m"
     ]
    }
   ],
   "source": [
    "%%shell\n",
    "curl -s -D - --get http://localhost:9998/myapp/application.wadl"
   ]
  },
  {
   "cell_type": "markdown",
   "metadata": {},
   "source": [
    "### Une API Cliente\n",
    "La classe `fr.univtln.bruno.samples.jaxrs.client.BiblioClient` définit un client qui utilise l'API fluent cliente pour construire des requêtes REST en Java."
   ]
  },
  {
   "cell_type": "code",
   "execution_count": 19,
   "metadata": {},
   "outputs": [
    {
     "ename": "EvalException",
     "evalue": "Undefined cell magic 'shell'",
     "output_type": "error",
     "traceback": [
      "\u001b[1m\u001b[31m---------------------------------------------------------------------------\u001b[0m",
      "\u001b[1m\u001b[31mio.github.spencerpark.jupyter.kernel.magic.registry.UndefinedMagicException: Undefined cell magic 'shell'\u001b[0m",
      "\u001b[1m\u001b[31m\tat io.github.spencerpark.jupyter.kernel.magic.registry.Magics.applyCellMagic(Magics.java:34)\u001b[0m",
      "\u001b[1m\u001b[31m\tat io.github.spencerpark.ijava.runtime.Magics.cellMagic(Magics.java:31)\u001b[0m",
      "\u001b[1m\u001b[31m\tat .(#30:1)\u001b[0m"
     ]
    }
   ],
   "source": [
    "%%shell \n",
    "cd /src/jaxrs/sample-jaxrs\n",
    "mvn  -Dmain.class=\"fr.univtln.bruno.samples.jaxrs.client.BiblioClient\" exec:java"
   ]
  },
  {
   "cell_type": "markdown",
   "metadata": {},
   "source": [
    "## Pour aller plus loin\n",
    "L'un des grandes force de REST est sa capacité à fonctionne avec tout les langages de programmation y compris les scripts. \n",
    "\n",
    "<div class=\"alert alert-block alert-info\">\n",
    "  * Commencez à ajouter une API REST à un programme que vous avez déjà fait. \n",
    "  * Ecrivez un client REST pour cette API dans un autre langage de programmation comme python.\n",
    "</div>"
   ]
  },
  {
   "cell_type": "markdown",
   "metadata": {},
   "source": [
    "La sécurité est apportée par http : pour protéger les communications il suffit d'activer SSL dans le serveur ou d'accéder au serveur REST via un reverse proxy sécurisé. \n",
    "\n",
    "L'authentification est cruciale, elle sera étudiée en détail en s'appuyant sur les JSON Web Token (https://jwt.io/)."
   ]
  },
  {
   "cell_type": "code",
   "execution_count": null,
   "metadata": {},
   "outputs": [],
   "source": []
  }
 ],
 "metadata": {
  "kernelspec": {
   "display_name": "Java",
   "language": "java",
   "name": "java"
  },
  "language_info": {
   "codemirror_mode": "java",
   "file_extension": ".jshell",
   "mimetype": "text/x-java-source",
   "name": "Java",
   "pygments_lexer": "java",
   "version": "11.0.10+9"
  },
  "toc-autonumbering": true,
  "toc-showcode": true,
  "toc-showmarkdowntxt": true,
  "toc-showtags": false
 },
 "nbformat": 4,
 "nbformat_minor": 4
}
