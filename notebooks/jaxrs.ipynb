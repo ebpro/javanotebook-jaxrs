{
 "cells": [
  {
   "cell_type": "markdown",
   "metadata": {},
   "source": [
    "# RestFull avec Java - JAX-RS\n",
    "\n",
    "L’objet de cette page est de présenter les service Web REST par la pratique en Java. \n",
    "\n",
    "L’idée générale est d’offrir un accès distant à des ressources (identifées par des URL) via une interface commune construite au dessus du protocole http. \n",
    "\n",
    "On parlera d'approche RESTful quand l'interface est conforme à une certaine philosophie : Une approche client/serveur classique mais en suivant une logique de navigation dans un hypermedia (HATEOS : Hypermedia As The Engine Of Application State). \n",
    "\n",
    "L'API est sans état côté serveur. Cela permettra de l'utiliser de façon transparente même en cas de serveur proxy/cache.\n",
    "\n",
    "Pour définir un protocole de communication il faut généralement définir (1) un système d'identification (d'adressage) des ressources manipulées, (2) un protocole d'échange, (3) un format d'échange de données éventuellement typées et (4) et (5) un système de gestion des erreurs. \n",
    "\n",
    "La logique RESTfull est d'utiliser tout ce que propose HTTP pour écrire une API **en** http.\n",
    "\n",
    "### L'adressage des ressources\n",
    "Les ressources de l'application sont identifiées par des URL.\n",
    "\n",
    "### Le protocole d'échange\n",
    "Les actions sur les ressources (identifiées par des URLs) sont associées aux verbes standards du protocole HTTP.\n",
    "\n",
    "  * **GET** : Accès à une ressource identifiée dans l'URL (il peut s'agit d'une collection).      \n",
    "  * **HEAD** : comme GET mais sans le corps de la requête (seul le header http est retourné).\n",
    "  * **POST** : création d’une ressource sans donner l'identifiant.\n",
    "  * **PUT** : mise à jour complète d'une ressource identifiée (voire création en donnant l'identifiant).\n",
    "  * **DELETE** : suppression d’une ressource\n",
    "\n",
    "La [RFC 2616](https://www.w3.org/Protocols/rfc2616/rfc2616-sec9.html) (HTTP methods) précise en particulier les nuances entre PUT et POST.\n",
    "\n",
    "GET, HEAD, PUT et DELETE doivent être idempotentes (un ou plusieurs appel doivent avoir les même effets de bord).\n",
    "\n",
    "#### Quelques exemples\n",
    "Obtenir toutes les personnes :\n",
    "      `GET http://MyServer/MyApp/Persons`\n",
    "      \n",
    "Obtenir Une personnes précise par identifiant:\n",
    "      `GET http://MyServer/MyApp/Persons/1`\n",
    "\n",
    "Obtenir toutes les personnes avec un filter:\n",
    "      `GET http://MyServer/MyApp/Persons?ageMin=7&ageMax=16`\n",
    "      \n",
    "Supprimer toutes personnes     \n",
    "      `DELETE http://MyServer/MyApp/Persons`\n",
    "      \n",
    "Supprimer une personne     \n",
    "      `DELETE http://MyServer/MyApp/Persons/1`      \n",
    "      \n",
    "### La réprésentation des ressources\n",
    "Les resources sont générales représentées et échangées à l'aide de langages autodescriptifs comme XML ou JSON.\n",
    "```xml\n",
    "<?xml version='1.0'?>\n",
    "<person id='1'>\n",
    "    <lastname>Doe</lastname>\n",
    "    <firstname>John</firstname>\n",
    "</person>\n",
    "```\n",
    "\n",
    "```json\n",
    "{\n",
    "  \"person\": {\n",
    "    \"-id\": \"1\",\n",
    "    \"lastname\": \"Doe\",\n",
    "    \"firstname\": \"John\"\n",
    "  }\n",
    "}\n",
    "```\n",
    "Pour indiquer ce que l'on envoie (Content-Type) ou ce que l'on attend (Accept) comme type de données il est possible d'utiliser les types Internet Media Types appelés à l'origine MIME (Multipurpose Internet Mail Extensions). Il s'agit entre autres d'une liste standard de formats et de sous-formats d'échange de données (text/plain, text/xml, application/json, ...)\n",
    "\n",
    "### La gestion des erreurs\n",
    "Le protocole http défini un ensemble de [codes de retours](https://tools.ietf.org/html/rfc2616#section-10).\n",
    "Un code est indiqué dans l'entête de la réponse (404 non trouvé, 500 erreur interne, 2XX ok, ...).\n",
    "Il est donc possible d'utiliser ces codes standards comme code retour.\n",
    "\n",
    "### Un échange REST = un échange HTTP\n",
    "Les échange d'une API REST correspondent donc exactement à un échange http :\n",
    "\n",
    "  * Une requête http composée d'un verbe, d'une URI, de la version de http utilisée, d'un en-tête (un liste de couples `nom:valeur` par exemple `Content-Type: text/xml`) et un corps éventuellement vide (les données envoyées).  \n",
    "  * Une réponse http composée \n",
    "\n",
    "#### Quelques exemples \n",
    "Création d'une personne :\n",
    "```\n",
    "POST http://MyServer:8080/MyApp/Persons/\n",
    "Host: MyServer:8080\n",
    "Content-Type: application/json; charset=utf-8\n",
    "Content-Length: 36\n",
    "{\"lastname\": \"Doe\",\n",
    " \"firstname\": \"John\"}\n",
    "```\n",
    "\n",
    "Modification d'une personne (`id` dans l'URL):\n",
    "```\n",
    "PUT http://MyServer:8080/MyApp/Persons/1\n",
    "Host: MyServer:8080\n",
    "Content-Type: application/json; charset=utf-8\n",
    "Content-Length: 12\n",
    "{\"age\":\"18\"}\n",
    "```\n",
    "\n",
    "Les liens entre les resources peuvent être réprésentés à l'aide d'URLs.\n",
    "Pour simplifier l'usage de l'API ces liens peuvent être fournis dans l'entête d'une réponse http. \n",
    "```\n",
    "first-person: http://MyServer:8080/MyApp/Persons/1\n",
    "next-person: http://MyServer:8080/MyApp/Persons/10\n",
    "previous-person: http://MyServer:8080/MyApp/Persons/8\n",
    "last-person: http://MyServer:8080/MyApp/Persons/90\n",
    "```\n",
    "\n",
    "La requête interactive suivante utilise la commande (curl)[https://curl.se/] pour soumettre une requête rest à l'API de github pour consulter les données du repository https://github.com/ebpro/sample-jaxrs. "
   ]
  },
  {
   "cell_type": "code",
   "execution_count": 1,
   "metadata": {},
   "outputs": [
    {
     "name": "stdout",
     "output_type": "stream",
     "text": [
      "HTTP/2 200 \n",
      "date: Thu, 04 Feb 2021 19:45:15 GMT\n",
      "content-type: application/json; charset=utf-8\n",
      "server: GitHub.com\n",
      "cache-control: public, max-age=60, s-maxage=60\n",
      "vary: Accept, Accept-Encoding, Accept, X-Requested-With, Accept-Encoding\n",
      "etag: W/\"06caee64306b26f0e9b199f1af11decf686588f663ee006b1ff663a583e70166\"\n",
      "last-modified: Tue, 02 Feb 2021 21:47:27 GMT\n",
      "x-github-media-type: github.v3; format=json\n",
      "access-control-expose-headers: ETag, Link, Location, Retry-After, X-GitHub-OTP, X-RateLimit-Limit, X-RateLimit-Remaining, X-RateLimit-Used, X-RateLimit-Reset, X-OAuth-Scopes, X-Accepted-OAuth-Scopes, X-Poll-Interval, X-GitHub-Media-Type, Deprecation, Sunset\n",
      "access-control-allow-origin: *\n",
      "strict-transport-security: max-age=31536000; includeSubdomains; preload\n",
      "x-frame-options: deny\n",
      "x-content-type-options: nosniff\n",
      "x-xss-protection: 1; mode=block\n",
      "referrer-policy: origin-when-cross-origin, strict-origin-when-cross-origin\n",
      "content-security-policy: default-src 'none'\n",
      "x-ratelimit-limit: 60\n",
      "x-ratelimit-remaining: 59\n",
      "x-ratelimit-reset: 1612471515\n",
      "x-ratelimit-used: 1\n",
      "accept-ranges: bytes\n",
      "content-length: 6263\n",
      "x-github-request-id: EC8C:139EA:ADE92B:BF6A56:601C4ECB\n",
      "\n",
      "{\n",
      "  \"id\": 335228440,\n",
      "  \"node_id\": \"MDEwOlJlcG9zaXRvcnkzMzUyMjg0NDA=\",\n",
      "  \"name\": \"sample-jaxrs\",\n",
      "  \"full_name\": \"ebpro/sample-jaxrs\",\n",
      "  \"private\": false,\n",
      "  \"owner\": {\n",
      "    \"login\": \"ebpro\",\n",
      "    \"id\": 76050356,\n",
      "    \"node_id\": \"MDEyOk9yZ2FuaXphdGlvbjc2MDUwMzU2\",\n",
      "    \"avatar_url\": \"https://avatars.githubusercontent.com/u/76050356?v=4\",\n",
      "    \"gravatar_id\": \"\",\n",
      "    \"url\": \"https://api.github.com/users/ebpro\",\n",
      "    \"html_url\": \"https://github.com/ebpro\",\n",
      "    \"followers_url\": \"https://api.github.com/users/ebpro/followers\",\n",
      "    \"following_url\": \"https://api.github.com/users/ebpro/following{/other_user}\",\n",
      "    \"gists_url\": \"https://api.github.com/users/ebpro/gists{/gist_id}\",\n",
      "    \"starred_url\": \"https://api.github.com/users/ebpro/starred{/owner}{/repo}\",\n",
      "    \"subscriptions_url\": \"https://api.github.com/users/ebpro/subscriptions\",\n",
      "    \"organizations_url\": \"https://api.github.com/users/ebpro/orgs\",\n",
      "    \"repos_url\": \"https://api.github.com/users/ebpro/repos\",\n",
      "    \"events_url\": \"https://api.github.com/users/ebpro/events{/privacy}\",\n",
      "    \"received_events_url\": \"https://api.github.com/users/ebpro/received_events\",\n",
      "    \"type\": \"Organization\",\n",
      "    \"site_admin\": false\n",
      "  },\n",
      "  \"html_url\": \"https://github.com/ebpro/sample-jaxrs\",\n",
      "  \"description\": \"A sample JAX-RS application\",\n",
      "  \"fork\": false,\n",
      "  \"url\": \"https://api.github.com/repos/ebpro/sample-jaxrs\",\n",
      "  \"forks_url\": \"https://api.github.com/repos/ebpro/sample-jaxrs/forks\",\n",
      "  \"keys_url\": \"https://api.github.com/repos/ebpro/sample-jaxrs/keys{/key_id}\",\n",
      "  \"collaborators_url\": \"https://api.github.com/repos/ebpro/sample-jaxrs/collaborators{/collaborator}\",\n",
      "  \"teams_url\": \"https://api.github.com/repos/ebpro/sample-jaxrs/teams\",\n",
      "  \"hooks_url\": \"https://api.github.com/repos/ebpro/sample-jaxrs/hooks\",\n",
      "  \"issue_events_url\": \"https://api.github.com/repos/ebpro/sample-jaxrs/issues/events{/number}\",\n",
      "  \"events_url\": \"https://api.github.com/repos/ebpro/sample-jaxrs/events\",\n",
      "  \"assignees_url\": \"https://api.github.com/repos/ebpro/sample-jaxrs/assignees{/user}\",\n",
      "  \"branches_url\": \"https://api.github.com/repos/ebpro/sample-jaxrs/branches{/branch}\",\n",
      "  \"tags_url\": \"https://api.github.com/repos/ebpro/sample-jaxrs/tags\",\n",
      "  \"blobs_url\": \"https://api.github.com/repos/ebpro/sample-jaxrs/git/blobs{/sha}\",\n",
      "  \"git_tags_url\": \"https://api.github.com/repos/ebpro/sample-jaxrs/git/tags{/sha}\",\n",
      "  \"git_refs_url\": \"https://api.github.com/repos/ebpro/sample-jaxrs/git/refs{/sha}\",\n",
      "  \"trees_url\": \"https://api.github.com/repos/ebpro/sample-jaxrs/git/trees{/sha}\",\n",
      "  \"statuses_url\": \"https://api.github.com/repos/ebpro/sample-jaxrs/statuses/{sha}\",\n"
     ]
    }
   ],
   "source": [
    "%%shell \n",
    "curl -s -D - https://api.github.com/repos/ebpro/sample-jaxrs"
   ]
  },
  {
   "cell_type": "markdown",
   "metadata": {},
   "source": [
    "A partir de ce résultat complétez la requête ci-dessous pour obtenir les branches de ce repository."
   ]
  },
  {
   "cell_type": "code",
   "execution_count": 2,
   "metadata": {},
   "outputs": [
    {
     "name": "stdout",
     "output_type": "stream",
     "text": [
      "HTTP/2 200 \n",
      "date: Thu, 04 Feb 2021 19:45:15 GMT\n",
      "content-type: application/json; charset=utf-8\n",
      "server: GitHub.com\n",
      "cache-control: public, max-age=60, s-maxage=60\n",
      "vary: Accept, Accept-Encoding, Accept, X-Requested-With, Accept-Encoding\n",
      "etag: W/\"06caee64306b26f0e9b199f1af11decf686588f663ee006b1ff663a583e70166\"\n",
      "last-modified: Tue, 02 Feb 2021 21:47:27 GMT\n",
      "x-github-media-type: github.v3; format=json\n",
      "access-control-expose-headers: ETag, Link, Location, Retry-After, X-GitHub-OTP, X-RateLimit-Limit, X-RateLimit-Remaining, X-RateLimit-Used, X-RateLimit-Reset, X-OAuth-Scopes, X-Accepted-OAuth-Scopes, X-Poll-Interval, X-GitHub-Media-Type, Deprecation, Sunset\n",
      "access-control-allow-origin: *\n",
      "strict-transport-security: max-age=31536000; includeSubdomains; preload\n",
      "x-frame-options: deny\n",
      "x-content-type-options: nosniff\n",
      "x-xss-protection: 1; mode=block\n",
      "referrer-policy: origin-when-cross-origin, strict-origin-when-cross-origin\n",
      "content-security-policy: default-src 'none'\n",
      "x-ratelimit-limit: 60\n",
      "x-ratelimit-remaining: 58\n",
      "x-ratelimit-reset: 1612471515\n",
      "x-ratelimit-used: 2\n",
      "accept-ranges: bytes\n",
      "content-length: 6263\n",
      "x-github-request-id: EC92:5249:9B410D:ABA4BC:601C4ECD\n",
      "\n",
      "{\n",
      "  \"id\": 335228440,\n",
      "  \"node_id\": \"MDEwOlJlcG9zaXRvcnkzMzUyMjg0NDA=\",\n",
      "  \"name\": \"sample-jaxrs\",\n",
      "  \"full_name\": \"ebpro/sample-jaxrs\",\n",
      "  \"private\": false,\n",
      "  \"owner\": {\n",
      "    \"login\": \"ebpro\",\n",
      "    \"id\": 76050356,\n",
      "    \"node_id\": \"MDEyOk9yZ2FuaXphdGlvbjc2MDUwMzU2\",\n",
      "    \"avatar_url\": \"https://avatars.githubusercontent.com/u/76050356?v=4\",\n",
      "    \"gravatar_id\": \"\",\n",
      "    \"url\": \"https://api.github.com/users/ebpro\",\n",
      "    \"html_url\": \"https://github.com/ebpro\",\n",
      "    \"followers_url\": \"https://api.github.com/users/ebpro/followers\",\n",
      "    \"following_url\": \"https://api.github.com/users/ebpro/following{/other_user}\",\n",
      "    \"gists_url\": \"https://api.github.com/users/ebpro/gists{/gist_id}\",\n",
      "    \"starred_url\": \"https://api.github.com/users/ebpro/starred{/owner}{/repo}\",\n",
      "    \"subscriptions_url\": \"https://api.github.com/users/ebpro/subscriptions\",\n",
      "    \"organizations_url\": \"https://api.github.com/users/ebpro/orgs\",\n",
      "    \"repos_url\": \"https://api.github.com/users/ebpro/repos\",\n",
      "    \"events_url\": \"https://api.github.com/users/ebpro/events{/privacy}\",\n",
      "    \"received_events_url\": \"https://api.github.com/users/ebpro/received_events\",\n",
      "    \"type\": \"Organization\",\n",
      "    \"site_admin\": false\n",
      "  },\n",
      "  \"html_url\": \"https://github.com/ebpro/sample-jaxrs\",\n",
      "  \"description\": \"A sample JAX-RS application\",\n",
      "  \"fork\": false,\n",
      "  \"url\": \"https://api.github.com/repos/ebpro/sample-jaxrs\",\n",
      "  \"forks_url\": \"https://api.github.com/repos/ebpro/sample-jaxrs/forks\",\n",
      "  \"keys_url\": \"https://api.github.com/repos/ebpro/sample-jaxrs/keys{/key_id}\",\n",
      "  \"collaborators_url\": \"https://api.github.com/repos/ebpro/sample-jaxrs/collaborators{/collaborator}\",\n",
      "  \"teams_url\": \"https://api.github.com/repos/ebpro/sample-jaxrs/teams\",\n",
      "  \"hooks_url\": \"https://api.github.com/repos/ebpro/sample-jaxrs/hooks\",\n",
      "  \"issue_events_url\": \"https://api.github.com/repos/ebpro/sample-jaxrs/issues/events{/number}\",\n",
      "  \"events_url\": \"https://api.github.com/repos/ebpro/sample-jaxrs/events\",\n",
      "  \"assignees_url\": \"https://api.github.com/repos/ebpro/sample-jaxrs/assignees{/user}\",\n",
      "  \"branches_url\": \"https://api.github.com/repos/ebpro/sample-jaxrs/branches{/branch}\",\n",
      "  \"tags_url\": \"https://api.github.com/repos/ebpro/sample-jaxrs/tags\",\n",
      "  \"blobs_url\": \"https://api.github.com/repos/ebpro/sample-jaxrs/git/blobs{/sha}\",\n",
      "  \"git_tags_url\": \"https://api.github.com/repos/ebpro/sample-jaxrs/git/tags{/sha}\",\n",
      "  \"git_refs_url\": \"https://api.github.com/repos/ebpro/sample-jaxrs/git/refs{/sha}\",\n",
      "  \"trees_url\": \"https://api.github.com/repos/ebpro/sample-jaxrs/git/trees{/sha}\",\n",
      "  \"statuses_url\": \"https://api.github.com/repos/ebpro/sample-jaxrs/statuses/{sha}\",\n",
      "  \"languages_url\": \"https://api.github.com/repos/ebpro/sample-jaxrs/languages\",\n",
      "  \"stargazers_url\": \"https://api.github.com/repos/ebpro/sample-jaxrs/stargazers\",\n",
      "  \"contributors_url\": \"https://api.github.com/repos/ebpro/sample-jaxrs/contributors\",\n",
      "  \"subscribers_url\": \"https://api.github.com/repos/ebpro/sample-jaxrs/subscribers\",\n",
      "  \"subscription_url\": \"https://api.github.com/repos/ebpro/sample-jaxrs/subscription\",\n",
      "  \"commits_url\": \"https://api.github.com/repos/ebpro/sample-jaxrs/commits{/sha}\",\n",
      "  \"git_commits_url\": \"https://api.github.com/repos/ebpro/sample-jaxrs/git/commits{/sha}\",\n",
      "  \"comments_url\": \"https://api.github.com/repos/ebpro/sample-jaxrs/comments{/number}\",\n",
      "  \"issue_comment_url\": \"https://api.github.com/repos/ebpro/sample-jaxrs/issues/comments{/number}\",\n",
      "  \"contents_url\": \"https://api.github.com/repos/ebpro/sample-jaxrs/contents/{+path}\",\n",
      "  \"compare_url\": \"https://api.github.com/repos/ebpro/sample-jaxrs/compare/{base}...{head}\",\n",
      "  \"merges_url\": \"https://api.github.com/repos/ebpro/sample-jaxrs/merges\",\n",
      "  \"archive_url\": \"https://api.github.com/repos/ebpro/sample-jaxrs/{archive_format}{/ref}\",\n",
      "  \"downloads_url\": \"https://api.github.com/repos/ebpro/sample-jaxrs/downloads\",\n",
      "  \"issues_url\": \"https://api.github.com/repos/ebpro/sample-jaxrs/issues{/number}\",\n",
      "  \"pulls_url\": \"https://api.github.com/repos/ebpro/sample-jaxrs/pulls{/number}\",\n",
      "  \"milestones_url\": \"https://api.github.com/repos/ebpro/sample-jaxrs/milestones{/number}\",\n",
      "  \"notifications_url\": \"https://api.github.com/repos/ebpro/sample-jaxrs/notifications{?since,all,participating}\",\n",
      "  \"labels_url\": \"https://api.github.com/repos/ebpro/sample-jaxrs/labels{/name}\",\n",
      "  \"releases_url\": \"https://api.github.com/repos/ebpro/sample-jaxrs/releases{/id}\",\n",
      "  \"deployments_url\": \"https://api.github.com/repos/ebpro/sample-jaxrs/deployments\",\n",
      "  \"created_at\": \"2021-02-02T09:04:24Z\",\n",
      "  \"updated_at\": \"2021-02-02T21:47:27Z\",\n",
      "  \"pushed_at\": \"2021-02-02T21:47:25Z\",\n",
      "  \"git_url\": \"git://github.com/ebpro/sample-jaxrs.git\",\n",
      "  \"ssh_url\": \"git@github.com:ebpro/sample-jaxrs.git\",\n",
      "  \"clone_url\": \"https://github.com/ebpro/sample-jaxrs.git\",\n",
      "  \"svn_url\": \"https://github.com/ebpro/sample-jaxrs\",\n",
      "  \"homepage\": null,\n",
      "  \"size\": 37,\n",
      "  \"stargazers_count\": 0,\n",
      "  \"watchers_count\": 0,\n",
      "  \"language\": \"Java\",\n",
      "  \"has_issues\": true,\n",
      "  \"has_projects\": true,\n",
      "  \"has_downloads\": true,\n",
      "  \"has_wiki\": false,\n",
      "  \"has_pages\": false,\n",
      "  \"forks_count\": 0,\n",
      "  \"mirror_url\": null,\n",
      "  \"archived\": false,\n",
      "  \"disabled\": false,\n",
      "  \"open_issues_count\": 0,\n",
      "  \"license\": null,\n"
     ]
    }
   ],
   "source": [
    "%%shell\n",
    "curl -s -D - https://api.github.com/repos/ebpro/sample-jaxrs"
   ]
  },
  {
   "cell_type": "markdown",
   "metadata": {},
   "source": [
    "## Pratique avec Jersey et Grizzly\n",
    "\n",
    "Java propose un standard appelé [JAX-RS](https://jakarta.ee/specifications/restful-ws/3.0/jakarta-restful-ws-spec-3.0.html) pour construire efficacement des serveurs REST. \n",
    "[Jersey](https://eclipse-ee4j.github.io/jersey/download.html) est l'implantation de référence de JAX-RS. \n",
    "\n",
    "Dans un premier temps nous allons étudier une application simple qui s'appuie une serveur web en Java [Grizzly](https://javaee.github.io/grizzly/).\n",
    "\n",
    "L’archetype maven suivant permet de créer un projet de base dans le répertoire `/src/jaxrs/myresource`. \n",
    "\n",
    "Une fois la commande terminée (un nombre a remplacé \\[*\\] cela peut prendre un peu de temps), le code source peut être consulté en utilisant l'IDE [Visual Studio Code](/code-server) embarqué en cliquant sur le lien précédent ou depuis les Launchers."
   ]
  },
  {
   "cell_type": "code",
   "execution_count": 1,
   "metadata": {},
   "outputs": [],
   "source": [
    "%%shell\n",
    "mkdir -p /src/jaxrs/\n",
    "cd /src/jaxrs/\n",
    "rm -rf /src/jaxrs/myresource\n",
    "\n",
    "mvn archetype:generate -B --no-transfer-progress --quiet \\\n",
    "  -DarchetypeGroupId=org.glassfish.jersey.archetypes \\\n",
    "  -DarchetypeArtifactId=jersey-quickstart-grizzly2 \\\n",
    "  -DarchetypeVersion=3.0.0 \\\n",
    "  -DgroupId=fr.univtln.bruno.demos.jaxrs \\\n",
    "  -DartifactId=myresource"
   ]
  },
  {
   "cell_type": "markdown",
   "metadata": {},
   "source": [
    "<div class=\"alert alert-block alert-info\">\n",
    "Ouvrez un terminal dans jupyterlab (+ en haut à gauche puis terminal) et copier/coller la commande suivante pour compilier/exécuter l’application et ainsi démarrer le serveur REST.\n",
    "</div>\n",
    "\n",
    "```shell\n",
    "cd /src/jaxrs/myresource\n",
    "mvn package && mvn exec:java\n",
    "```\n",
    "\n",
    "Il est possible d’accéder à la ressource en ligne de commande. \n",
    "\n",
    "Regarder les options de la commande curl pour réaliser des requêtes HTTP. \n",
    "\n",
    "Des extensions pour les navigateurs web existent aussi comme postman pour Chrome ou RestClient pour firefox (attention les serveurs lancé dans jupyter ne sont pas accessible de l'extérieur).\n",
    "\n",
    "La commande suivante exécute une requête GET sur l'URL d'une ressource et affiche le résultat en-tête compris."
   ]
  },
  {
   "cell_type": "code",
   "execution_count": 2,
   "metadata": {},
   "outputs": [
    {
     "name": "stdout",
     "output_type": "stream",
     "text": [
      "HTTP/1.1 200 OK\n",
      "Content-Type: text/plain\n",
      "Content-Length: 7\n",
      "\n",
      "Got it!\n"
     ]
    }
   ],
   "source": [
    "%%shell\n",
    "curl -s -D - --get http://localhost:8080/myapp/myresource"
   ]
  },
  {
   "cell_type": "markdown",
   "metadata": {},
   "source": [
    "En théorie l'URL `/myapp/application.wadl` permet d'accéder à une description standard de l'API dans un format XML appelé [WADL](https://www.w3.org/Submission/wadl/). \n",
    "\n",
    "Cependant, pour cela l'application nécessite une implantation du standard pour traiter les documents XML appelé [JAXB](https://eclipse-ee4j.github.io/jaxb-ri/) qui n'est plus fournie en standard dans le JDK depuis la version 8 (nous utilisons ici la version 11).  C'est pourquoi une erreur 404 est reçue."
   ]
  },
  {
   "cell_type": "code",
   "execution_count": 3,
   "metadata": {},
   "outputs": [
    {
     "name": "stdout",
     "output_type": "stream",
     "text": [
      "HTTP/1.1 404 Not Found\n",
      "Content-Length: 0\n",
      "\n"
     ]
    }
   ],
   "source": [
    "%%shell\n",
    "curl -s -D - --get http://localhost:8080/myapp/application.wadl"
   ]
  },
  {
   "cell_type": "markdown",
   "metadata": {},
   "source": [
    "La classe `fr.univtln.bruno.demos.jaxrs.Main` démarre le serveur et paramètre les package où chercher des ressources (cf. commentaires).\n",
    "\n",
    "La classe `fr.univtln.bruno.demos.jaxrs.MyResource` présente le fonctionnement minimal d'une ressource. La classe est annotée avec `@Path(your_path)` pour indiquer le chemin à ajouter à l’URL correspondant à cette ressource.\n",
    "\n",
    "Les méthodes sont annotées avec @POST, @GET, @PUT, @DELETE pour indiquer le type de verbe http associée. Les méthodes associées (dont GET) peuvent être annotées avec `@Produces` qui indique le type MIME dans lequel le résultat doit être fourni : `@Produces(\"text/plain\")`, `@Produces(\"application/json\")`, … Il possible d’indiquer plusieurs types avec `@Produces({\"application/json\", \"application/xml\"})`. Il existe aussi des constantes équivalentes `MediaType.TEXT_PLAIN`. Une valeur par défaut de `@Produces` peut être indiquée en annotant la classe.\n",
    "\n",
    "Le client peut indiquer le type demandé avec la valeur `Content-Type: ` de l'entête de la requête.\n",
    "\n",
    "Les méthodes qui nécessitent des paramètres sont annotées avec `@Consumes(type[, type, …])` pour indiquer les types mime supportés. \n",
    "\n",
    "L’annotation @PathParam permet d’injecter les valeurs provenant des URL comme des paramètres. \n",
    "\n",
    "## Un exemple avancé\n",
    "\n",
    "Le projet dans l’entrepôt git https://github.com/ebpro/sample-jaxrs donne un exemple un peu plus complet.\n",
    "\n",
    "La commande suivante clone le projet :"
   ]
  },
  {
   "cell_type": "code",
   "execution_count": 4,
   "metadata": {},
   "outputs": [
    {
     "name": "stderr",
     "output_type": "stream",
     "text": [
      "Cloning into 'sample-jaxrs'...\n"
     ]
    }
   ],
   "source": [
    "%%shell \n",
    "cd /src/jaxrs/\n",
    "rm -rf /src/jaxrs/sample-jaxrs\n",
    "git clone --branch develop https://github.com/ebpro/sample-jaxrs.git"
   ]
  },
  {
   "cell_type": "markdown",
   "metadata": {},
   "source": [
    "Ce projet peut aussi être édité dans [Visual Studio Code](/code-server). \n",
    "\n",
    "Vous pouvez exécuter la commande suivante depuis un terminal jupyterlab qui utilise le but maven `verify`.\n",
    "Elle compile, exécute les tests unitaires, package et exécute les tests d'intégration (en lançant le serveur REST et en exécutant de vraies requêtes).\n",
    "\n",
    "Le but exec:java lances ensuite le serveur (vous pourrez l'arrêter avec ctrl-c dans le terminal). \n",
    "\n",
    "<div class=\"alert alert-block alert-info\">\n",
    "Ouvrez un autre terminal JupyterLab pour exécuter la commande suivante.\n",
    "</div>\n",
    "\n",
    "```shell \n",
    "cd /src/jaxrs/sample-jaxrs && \\\n",
    "    mvn clean verify &&\n",
    "    mvn exec:java\n",
    "```\n",
    "\n",
    "La classe `fr.univtln.bruno.samples.jaxrs.server.BiblioServer` paramètre Jersey, démarre Grizzly et attend un CTRL-C pour arrêter le serveur. \n",
    "\n",
    "La classe `fr.univtln.bruno.samples.jaxrs.model.BiblioModel` définit le modèle de donnée (Une bibliothèque qui est une facade pour gérer des Auteurs.)\n",
    "\n",
    "La classe `fr.univtln.bruno.samples.jaxrs.resources.BiblioResource` définit une resource facade.\n",
    "\n",
    "\n",
    "La méthode `sayHello()` reprend l'exemple précédent."
   ]
  },
  {
   "cell_type": "code",
   "execution_count": 5,
   "metadata": {},
   "outputs": [
    {
     "name": "stdout",
     "output_type": "stream",
     "text": [
      "\u001b[0;31mGet a Hello message\u001b[0m\n",
      "HTTP/1.1 200 OK\n",
      "Content-Type: text/plain\n",
      "Content-Length: 5\n",
      "\n",
      "hello\n"
     ]
    }
   ],
   "source": [
    "%%shell\n",
    "echo -e \"\\033[0;31mGet a Hello message\\033[0m\"\n",
    "curl -s -i http://localhost:9998/myapp/biblio"
   ]
  },
  {
   "cell_type": "markdown",
   "metadata": {},
   "source": [
    "### Chemins et Verbes\n",
    "La méthode `init()` est un simple PUT sans paramètre qui initialise la bibliothèque avec deux auteurs."
   ]
  },
  {
   "cell_type": "code",
   "execution_count": 6,
   "metadata": {},
   "outputs": [
    {
     "name": "stdout",
     "output_type": "stream",
     "text": [
      "\u001b[0;31mInit the database with two authors\u001b[0m\n",
      "HTTP/1.1 200 OK\n",
      "Content-Type: application/json\n",
      "Content-Length: 1\n",
      "\n",
      "2\n"
     ]
    }
   ],
   "source": [
    "%%shell\n",
    "echo \"\\033[0;31mInit the database with two authors\\033[0m\"\n",
    "curl -s -i -X PUT \"http://localhost:9998/myapp/biblio/init\""
   ]
  },
  {
   "cell_type": "markdown",
   "metadata": {},
   "source": [
    "## Les paramètres simples et la sérialisation du retour\n",
    "Retourner un auteur par id. La méthode `getAuteur(@PathParam(\"id\") final long id)` s'exécute lors d'un `GET` sur un chemin de forme `@Path(\"auteurs/{id}\")`. `id` est est un pas de chemin quelconque qui sera extrait, converti en long et injecté grâce à @PathParam dans le paramètre id de la fonction. Il est possible d'indiquer une expression régulière pour contraindre la forme du pas par exemple `@Path(\"auteurs/{id: [0-9]+}\")`. Le Produces indique que du XML ou du JSON peuvent être produits. La requête suivante demande du JSON. "
   ]
  },
  {
   "cell_type": "code",
   "execution_count": 7,
   "metadata": {},
   "outputs": [
    {
     "name": "stdout",
     "output_type": "stream",
     "text": [
      "\u001b[0;31mGet author 1 in JSON\u001b[0m\n",
      "HTTP/1.1 200 OK\n",
      "Content-Type: application/json\n",
      "Content-Length: 57\n",
      "\n",
      "{\"id\":1,\"nom\":\"Martin\",\"prenom\":\"Jean\",\"biographie\":null}\n"
     ]
    }
   ],
   "source": [
    "%%shell\n",
    "echo \"\\033[0;31mGet author 1 in JSON\\033[0m\"\n",
    "curl -s -i -H \"Accept: application/json\"  \\\n",
    "  http://localhost:9998/myapp/biblio/auteurs/1"
   ]
  },
  {
   "cell_type": "markdown",
   "metadata": {},
   "source": [
    "La requête suivante reprend la précédente et demande du XML. JAX-RS va chercher automatiquement des classes (MessageBodyWriter et Reader) pour créer le bon format. Ces classes peuvent construites explicitement mais des extensions peuvent être ajoutées pour produire les types classiques par annotations des entités (cf. le pom.xml et  les annotations de la classe `BiblioModel.Auteur`) : jersey-media-jaxb pour XML et jersey-media-json-jackson pour JSON. Jackson n'est pas l'implantatation pas défaut mais elle est plus efficace et plus configurable. "
   ]
  },
  {
   "cell_type": "code",
   "execution_count": 8,
   "metadata": {},
   "outputs": [
    {
     "name": "stdout",
     "output_type": "stream",
     "text": [
      "\u001b[0;31mGet author 2 in XML\u001b[0m\n",
      "HTTP/1.1 200 OK\n",
      "Content-Type: text/xml\n",
      "Content-Length: 118\n",
      "\n",
      "<?xml version=\"1.0\" encoding=\"UTF-8\" standalone=\"yes\"?><auteur id=\"2\"><nom>Durand</nom><prenom>Marie</prenom></auteur>\n"
     ]
    }
   ],
   "source": [
    "%%shell\n",
    "echo \"\\033[0;31mGet author 2 in XML\\033[0m\"\n",
    "curl -s -i -H \"Accept: text/xml\"  \\\n",
    "  http://localhost:9998/myapp/biblio/auteurs/2"
   ]
  },
  {
   "cell_type": "markdown",
   "metadata": {},
   "source": [
    "Les collections classiques sont supportés. Notez qu'ici les [collections eclipse](https://www.eclipse.org/collections/) sont utilisées en particulier celles pour les primitifs et qu'elles sont supportées par Jackson."
   ]
  },
  {
   "cell_type": "code",
   "execution_count": 9,
   "metadata": {},
   "outputs": [
    {
     "name": "stdout",
     "output_type": "stream",
     "text": [
      "\u001b[0;31mGet authors in JSON\u001b[0m\n",
      "HTTP/1.1 200 OK\n",
      "Content-Type: application/json\n",
      "Content-Length: 118\n",
      "\n",
      "[{\"id\":1,\"nom\":\"Martin\",\"prenom\":\"Jean\",\"biographie\":null},{\"id\":2,\"nom\":\"Durand\",\"prenom\":\"Marie\",\"biographie\":null}]\n"
     ]
    }
   ],
   "source": [
    "%%shell\n",
    "echo \"\\033[0;31mGet authors in JSON\\033[0m\"\n",
    "curl -s -i -H \"Accept: application/json\"  \\\n",
    "  http://localhost:9998/myapp/biblio/auteurs"
   ]
  },
  {
   "cell_type": "markdown",
   "metadata": {},
   "source": [
    "D'une façon similaire les annotations `@HeaderParam` et `@QueryParam` permettent d'extraire des valeurs de l'entête ou des paramètres de la requête http :\n",
    "\n",
    "```shell\n",
    "```\n",
    "\n",
    "### La sérialisation des données\n",
    "\n",
    "Depuis Java 9 il est nécessaire d'ajouter les dépendances suivante pour traiter des données XML : \n",
    "\n",
    "```XML\n",
    "<dependency>\n",
    "  <groupId>jakarta.xml.bind</groupId> \n",
    "  <artifactId>jakarta.xml.bind-api</artifactId>\n",
    "</dependency>\n",
    "<dependency>\n",
    "  <groupId>org.glassfish.jaxb</groupId>\n",
    "  <artifactId>jaxb-runtime</artifactId>\n",
    "</dependency>\n",
    "```\n",
    "\n",
    "La définition des formats de données XML se fait par annotation des entités en utilisant le standard JAXB (Java Architecture for XML Binding) : @XmlElement, @XmlType, @XmlAttribute, @XmlTransient, @XmlValue, ...\n",
    "\n",
    "Le standard officiel pour JSON est maintenant JSON-B (Java API for JSON Binding). Cependant, des fonctionnalités importantes sont encore manquantes ,ous utiliserons donc une autre librairie : Jackson https://github.com/FasterXML/jackson (cf. pom.xml)."
   ]
  },
  {
   "cell_type": "markdown",
   "metadata": {},
   "source": [
    "### Les paramètres complexes dans les corps de requêtes \n",
    "Les conversions sont aussi automatiques dans l'autre sens quand des données sont envoyées dans le corps d'une requête ici du JSON dans un POST.\n",
    "L'annotation @Consummes de la méthode addAuteur() indique ce qui est possible et l'entete Content-Type ce qui est envoyé. Noter que l'Id n'est pas indiqué mais que l'entité complète est retournée. "
   ]
  },
  {
   "cell_type": "code",
   "execution_count": 10,
   "metadata": {},
   "outputs": [
    {
     "name": "stdout",
     "output_type": "stream",
     "text": [
      "\u001b[0;31mAdds an author\u001b[0m\n",
      "HTTP/1.1 201 Created\n",
      "Content-Type: application/json\n",
      "Content-Length: 61\n",
      "\n",
      "{\"id\":3,\"nom\":\"John\",\"prenom\":\"Smith\",\"biographie\":\"My life\"}\n"
     ]
    }
   ],
   "source": [
    "%%shell\n",
    "echo \"\\033[0;31mAdds an author\\033[0m\"\n",
    "curl -s -i -H \"Accept: application/json\"  \\\n",
    "  -H \"Content-type: application/json\"  \\\n",
    "  -X POST \\\n",
    "  -d '{\"nom\":\"John\",\"prenom\":\"Smith\",\"biographie\":\"My life\"}' \\\n",
    "  http://localhost:9998/myapp/biblio/auteurs/"
   ]
  },
  {
   "cell_type": "markdown",
   "metadata": {},
   "source": [
    "La méthode `updateAuteur` est appelée par un PUT mais avec une resource précise (indiquée dans l'URL) à mettre à jour."
   ]
  },
  {
   "cell_type": "code",
   "execution_count": 11,
   "metadata": {},
   "outputs": [
    {
     "name": "stdout",
     "output_type": "stream",
     "text": [
      "\u001b[0;31mFully update an author\u001b[0m\n",
      "HTTP/1.1 200 OK\n",
      "Content-Type: application/json\n",
      "Content-Length: 61\n",
      "\n",
      "{\"id\":1,\"nom\":\"Martin\",\"prenom\":\"Jean\",\"biographie\":\"ma vie\"}\n"
     ]
    }
   ],
   "source": [
    "%%shell\n",
    "echo \"\\033[0;31mFully update an author\\033[0m\"\n",
    "curl -s -i -H \"Accept: application/json\"  \\\n",
    "  -H \"Content-type: application/json\"  \\\n",
    "  -X PUT \\\n",
    "  -d '{\"nom\":\"Martin\",\"prenom\":\"Jean\",\"biographie\":\"ma vie\"}' \\\n",
    "  http://localhost:9998/myapp/biblio/auteurs/1"
   ]
  },
  {
   "cell_type": "markdown",
   "metadata": {},
   "source": [
    "### Les exceptions\n",
    "Le traitement des exceptions peut être simplifié en utilisant des mappers (cf. package exceptions et mapper) qui s'appliquent automatiquement lors qu'une exception est émise. Dans ce cas un objet Response est construit manuellement pour contrôler le détail du corps et de l'entête. "
   ]
  },
  {
   "cell_type": "code",
   "execution_count": 12,
   "metadata": {},
   "outputs": [
    {
     "name": "stdout",
     "output_type": "stream",
     "text": [
      "\u001b[0;31mIf a resource doesn't exist an exception is raised, and the 404 http status code is returned\u001b[0m\n",
      "HTTP/1.1 404 Not Found\n",
      "Content-Type: application/json\n",
      "Content-Length: 9\n",
      "\n",
      "Not Found\n"
     ]
    }
   ],
   "source": [
    "%%shell\n",
    "echo \"\\033[0;31mIf a resource doesn't exist an exception is raised, and the 404 http status code is returned\\033[0m\"\n",
    "curl -s -i -H \"Accept: application/json\"  \\\n",
    "  http://localhost:9998/myapp/biblio/auteurs/1000"
   ]
  },
  {
   "cell_type": "markdown",
   "metadata": {},
   "source": [
    "D'une façon générale une classe annotée par `@Provider` ajouter des fonctions (traitement des exceptions, conversion des données, ...)."
   ]
  },
  {
   "cell_type": "markdown",
   "metadata": {},
   "source": [
    "### La suppression\n",
    "La suppression des requêtes se fait avec les approches précédentes."
   ]
  },
  {
   "cell_type": "code",
   "execution_count": 13,
   "metadata": {},
   "outputs": [
    {
     "name": "stdout",
     "output_type": "stream",
     "text": [
      "\u001b[0;31mRemoves one author\u001b[0m\n",
      "HTTP/1.1 204 No Content\n",
      "\n"
     ]
    }
   ],
   "source": [
    "%%shell\n",
    "echo \"\\033[0;31mRemoves one author\\033[0m\"\n",
    "    curl -s -i -H \"Accept: application/json\"  \\\n",
    "curl -s -i -X DELETE \\\n",
    "    http://localhost:9998/myapp/biblio/auteurs/1"
   ]
  },
  {
   "cell_type": "code",
   "execution_count": 14,
   "metadata": {},
   "outputs": [
    {
     "name": "stdout",
     "output_type": "stream",
     "text": [
      "\u001b[0;31mRemoves all authors\u001b[0m\n",
      "HTTP/1.1 204 No Content\n",
      "\n"
     ]
    }
   ],
   "source": [
    "%%shell\n",
    "echo \"\\033[0;31mRemoves all authors\\033[0m\"\n",
    "curl -s -i -X DELETE \\\n",
    "    http://localhost:9998/myapp/biblio/auteurs"
   ]
  },
  {
   "cell_type": "code",
   "execution_count": 15,
   "metadata": {},
   "outputs": [
    {
     "name": "stdout",
     "output_type": "stream",
     "text": [
      "\u001b[0;31mInit the database with two authors\u001b[0m\n",
      "HTTP/1.1 200 OK\n",
      "Content-Type: application/json\n",
      "Content-Length: 1\n",
      "\n",
      "2\n"
     ]
    }
   ],
   "source": [
    "%%shell\n",
    "echo \"\\033[0;31mInit the database with two authors\\033[0m\"\n",
    "curl -s -i -X PUT http://localhost:9998/myapp/biblio/init"
   ]
  },
  {
   "cell_type": "markdown",
   "metadata": {},
   "source": [
    "### Définition de l'API\n",
    "Si JAXB est dans le classpath (cf. pom.xml) la génération d'une description WADL est automatique."
   ]
  },
  {
   "cell_type": "code",
   "execution_count": 16,
   "metadata": {},
   "outputs": [
    {
     "name": "stdout",
     "output_type": "stream",
     "text": [
      "HTTP/1.1 200 OK\n",
      "Last-modified: Thu, 04 Feb 2021 20:34:32 UTC\n",
      "Content-Type: application/vnd.sun.wadl+xml\n",
      "Content-Length: 3608\n",
      "\n",
      "<?xml version=\"1.0\" encoding=\"UTF-8\" standalone=\"yes\"?>\n",
      "<application xmlns=\"http://wadl.dev.java.net/2009/02\">\n",
      "    <doc xmlns:jersey=\"http://jersey.java.net/\" jersey:generatedBy=\"Jersey: 3.0.1 2021-01-26 17:49:29\"/>\n",
      "    <doc xmlns:jersey=\"http://jersey.java.net/\" jersey:hint=\"This is simplified WADL with user and core resources only. To get full WADL with extended resources use the query parameter detail. Link: http://localhost:9998/myapp/application.wadl?detail=true\"/>\n",
      "    <grammars>\n",
      "        <include href=\"application.wadl/xsd0.xsd\">\n",
      "            <doc title=\"Generated\" xml:lang=\"en\"/>\n",
      "        </include>\n",
      "    </grammars>\n",
      "    <resources base=\"http://localhost:9998/myapp/\">\n",
      "        <resource path=\"biblio\">\n",
      "            <method id=\"sayHello\" name=\"GET\">\n",
      "                <response>\n",
      "                    <representation mediaType=\"text/plain\"/>\n",
      "                </response>\n",
      "            </method>\n",
      "            <resource path=\"init\">\n",
      "                <method id=\"init\" name=\"PUT\">\n",
      "                    <response>\n",
      "                        <representation mediaType=\"application/json\"/>\n",
      "                        <representation mediaType=\"text/xml\"/>\n",
      "                    </response>\n",
      "                </method>\n",
      "            </resource>\n",
      "            <resource path=\"auteurs\">\n",
      "                <method id=\"getAuteurs\" name=\"GET\">\n",
      "                    <response>\n",
      "                        <representation mediaType=\"application/json\"/>\n",
      "                        <representation mediaType=\"text/xml\"/>\n",
      "                    </response>\n",
      "                </method>\n",
      "                <method id=\"supprimerAuteurs\" name=\"DELETE\"/>\n",
      "                <method id=\"ajouterAuteur\" name=\"POST\">\n",
      "                    <request>\n",
      "                        <ns2:representation xmlns:ns2=\"http://wadl.dev.java.net/2009/02\" xmlns=\"\" element=\"auteur\" mediaType=\"application/json\"/>\n",
      "                    </request>\n",
      "                    <response>\n",
      "                        <ns2:representation xmlns:ns2=\"http://wadl.dev.java.net/2009/02\" xmlns=\"\" element=\"auteur\" mediaType=\"application/json\"/>\n",
      "                        <ns2:representation xmlns:ns2=\"http://wadl.dev.java.net/2009/02\" xmlns=\"\" element=\"auteur\" mediaType=\"text/xml\"/>\n",
      "                    </response>\n",
      "                </method>\n",
      "            </resource>\n",
      "            <resource path=\"auteurs/{id}\">\n",
      "                <param xmlns:xs=\"http://www.w3.org/2001/XMLSchema\" name=\"id\" style=\"template\" type=\"xs:long\"/>\n",
      "                <method id=\"updateAuteur\" name=\"PUT\">\n",
      "                    <request>\n",
      "                        <ns2:representation xmlns:ns2=\"http://wadl.dev.java.net/2009/02\" xmlns=\"\" element=\"auteur\" mediaType=\"application/json\"/>\n",
      "                    </request>\n",
      "                    <response>\n",
      "                        <ns2:representation xmlns:ns2=\"http://wadl.dev.java.net/2009/02\" xmlns=\"\" element=\"auteur\" mediaType=\"application/json\"/>\n",
      "                        <ns2:representation xmlns:ns2=\"http://wadl.dev.java.net/2009/02\" xmlns=\"\" element=\"auteur\" mediaType=\"text/xml\"/>\n",
      "                    </response>\n",
      "                </method>\n",
      "                <method id=\"getAuteur\" name=\"GET\">\n",
      "                    <response>\n",
      "                        <ns2:representation xmlns:ns2=\"http://wadl.dev.java.net/2009/02\" xmlns=\"\" element=\"auteur\" mediaType=\"application/json\"/>\n",
      "                        <ns2:representation xmlns:ns2=\"http://wadl.dev.java.net/2009/02\" xmlns=\"\" element=\"auteur\" mediaType=\"text/xml\"/>\n",
      "                    </response>\n",
      "                </method>\n",
      "                <method id=\"supprimerAuteur\" name=\"DELETE\"/>\n",
      "            </resource>\n",
      "        </resource>\n",
      "    </resources>\n",
      "</application>\n"
     ]
    }
   ],
   "source": [
    "%%shell\n",
    "curl -s -D - --get http://localhost:9998/myapp/application.wadl"
   ]
  },
  {
   "cell_type": "markdown",
   "metadata": {},
   "source": [
    "### Une API Cliente\n",
    "La classe `fr.univtln.bruno.samples.jaxrs.client.BiblioClient` définit un client qui utilise l'API fluent cliente pour construire des requêtes REST en Java."
   ]
  },
  {
   "cell_type": "code",
   "execution_count": 17,
   "metadata": {},
   "outputs": [
    {
     "name": "stdout",
     "output_type": "stream",
     "text": [
      "[INFO] Scanning for projects...\n",
      "[INFO] \n",
      "[INFO] ----------< fr.univtln.bruno.exemple.simplerest:sample-jaxrs >----------\n",
      "[INFO] Building Sample JAX-RS 2.0-SNAPSHOT\n",
      "[INFO] --------------------------------[ jar ]---------------------------------\n",
      "[INFO] \n",
      "[INFO] --- exec-maven-plugin:1.6.0:java (default-cli) @ sample-jaxrs ---\n"
     ]
    },
    {
     "name": "stderr",
     "output_type": "stream",
     "text": [
      "Feb 04, 2021 8:34:36 PM fr.univtln.bruno.samples.jaxrs.client.BiblioClient main\n",
      "INFO: 2\n",
      "Feb 04, 2021 8:34:36 PM fr.univtln.bruno.samples.jaxrs.client.BiblioClient main\n",
      "INFO: [{\"id\":1,\"nom\":\"Martin\",\"prenom\":\"Jean\",\"biographie\":null},{\"id\":2,\"nom\":\"Durand\",\"prenom\":\"Marie\",\"biographie\":null}]\n",
      "Feb 04, 2021 8:34:36 PM fr.univtln.bruno.samples.jaxrs.client.BiblioClient main\n",
      "INFO: BiblioModel.Auteur(id=1, nom=Martin, prenom=Jean, biographie=null)\n"
     ]
    },
    {
     "name": "stdout",
     "output_type": "stream",
     "text": [
      "[INFO] ------------------------------------------------------------------------\n",
      "[INFO] BUILD SUCCESS\n",
      "[INFO] ------------------------------------------------------------------------\n",
      "[INFO] Total time:  1.699 s\n",
      "[INFO] Finished at: 2021-02-04T20:34:36Z\n",
      "[INFO] ------------------------------------------------------------------------\n"
     ]
    }
   ],
   "source": [
    "%%shell \n",
    "cd /src/jaxrs/sample-jaxrs\n",
    "mvn  -Dmain.class=\"fr.univtln.bruno.samples.jaxrs.client.BiblioClient\" exec:java"
   ]
  },
  {
   "cell_type": "markdown",
   "metadata": {},
   "source": [
    "## Pour aller plus loin\n",
    "L'un des grandes force de REST est sa capacité à fonctionne avec tout les langages de programmation y compris les scripts. \n",
    "\n",
    "<div class=\"alert alert-block alert-info\">\n",
    "  * Commencez à ajouter une API REST à un programme que vous avez déjà fait. \n",
    "  * Ecrivez un client REST pour cette API dans un autre langage de programmation comme python.\n",
    "</div>"
   ]
  },
  {
   "cell_type": "markdown",
   "metadata": {},
   "source": [
    "La sécurité est apportée par http : pour protéger les communications il suffit d'activer SSL dans le serveur ou d'accéder au serveur REST via un reverse proxy sécurisé. \n",
    "\n",
    "L'authentification est cruciale, elle sera étudiée en détail en s'appuyant sur les JSON Web Token (https://jwt.io/)."
   ]
  },
  {
   "cell_type": "code",
   "execution_count": null,
   "metadata": {},
   "outputs": [],
   "source": []
  }
 ],
 "metadata": {
  "kernelspec": {
   "display_name": "Java",
   "language": "java",
   "name": "java"
  },
  "language_info": {
   "codemirror_mode": "java",
   "file_extension": ".jshell",
   "mimetype": "text/x-java-source",
   "name": "Java",
   "pygments_lexer": "java",
   "version": "15.0.2+7"
  }
 },
 "nbformat": 4,
 "nbformat_minor": 4
}
